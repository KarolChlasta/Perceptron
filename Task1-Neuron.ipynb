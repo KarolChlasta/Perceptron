{
  "nbformat": 4,
  "nbformat_minor": 0,
  "metadata": {
    "colab": {
      "name": "Perceptron.ipynb",
      "provenance": [],
      "include_colab_link": true
    },
    "kernelspec": {
      "name": "python3",
      "display_name": "Python 3"
    }
  },
  "cells": [
    {
      "cell_type": "markdown",
      "metadata": {
        "id": "view-in-github",
        "colab_type": "text"
      },
      "source": [
        "<a href=\"https://colab.research.google.com/github/KarolChlasta/Perceptron/blob/master/Task1-Neuron.ipynb\" target=\"_parent\"><img src=\"https://colab.research.google.com/assets/colab-badge.svg\" alt=\"Open In Colab\"/></a>"
      ]
    },
    {
      "cell_type": "code",
      "metadata": {
        "id": "fi3R4Fty5vOx",
        "colab_type": "code",
        "outputId": "8d598529-078a-4017-b242-c53fba501e98",
        "colab": {
          "base_uri": "https://localhost:8080/",
          "height": 104
        }
      },
      "source": [
        "# A single McCulloch-Pitts neuron with 4 inputs\n",
        "import numpy as np\n",
        "\n",
        "mi = 4 # neuron threshold\n",
        "\n",
        "inputs = np.array( [[0, 1, 0, 1],\n",
        "                    [1, 1, 1, 0],\n",
        "                    [0, 0, 1, 1],\n",
        "                    [0, 1, 0, 0]])\n",
        "\n",
        "weights = np.array( [2, -1, 3, 5] )\n",
        "\n",
        "print(inputs.dot(weights)-mi)\n",
        "\n",
        "# neuron.cfg generation\n",
        "\n",
        "# Theta - activation function of my neuron\n",
        "for x in (inputs.dot(weights)-mi):\n",
        "  if x >= 0 :\n",
        "    print(1)\n",
        "  else :\n",
        "    print(0)\n",
        "\n",
        "# Neuron was activated three times."
      ],
      "execution_count": 4,
      "outputs": [
        {
          "output_type": "stream",
          "text": [
            "[ 0  0  4 -5]\n",
            "1\n",
            "1\n",
            "1\n",
            "0\n"
          ],
          "name": "stdout"
        }
      ]
    }
  ]
}