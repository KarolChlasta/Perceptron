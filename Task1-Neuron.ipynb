{
  "nbformat": 4,
  "nbformat_minor": 0,
  "metadata": {
    "colab": {
      "name": "Perceptron.ipynb",
      "provenance": [],
      "include_colab_link": true
    },
    "kernelspec": {
      "name": "python3",
      "display_name": "Python 3"
    }
  },
  "cells": [
    {
      "cell_type": "markdown",
      "metadata": {
        "id": "view-in-github",
        "colab_type": "text"
      },
      "source": [
        "<a href=\"https://colab.research.google.com/github/KarolChlasta/Perceptron/blob/master/Task1-Neuron.ipynb\" target=\"_parent\"><img src=\"https://colab.research.google.com/assets/colab-badge.svg\" alt=\"Open In Colab\"/></a>"
      ]
    },
    {
      "cell_type": "code",
      "metadata": {
        "id": "fi3R4Fty5vOx",
        "colab_type": "code",
        "outputId": "7475eadd-963b-45a9-c2cd-adbeb53b3c05",
        "colab": {
          "base_uri": "https://localhost:8080/",
          "height": 868
        }
      },
      "source": [
        "# A single McCulloch-Pitts neuron with 4 inputs\n",
        "import numpy as np\n",
        "\n",
        "mi = 4 # neuron threshold\n",
        "\n",
        "inputs_test = np.array( [[0, 1, 0, 1],\n",
        "                    [1, 1, 1, 0],\n",
        "                    [0, 0, 1, 1],\n",
        "                    [0, 1, 0, 0]], dtype=int)\n",
        "\n",
        "weights_test = np.array( [2, -1, 3, 5], dtype=int)\n",
        "print(inputs_test)\n",
        "print(inputs_test.dot(weights_test)-mi)\n",
        "\n",
        "# theta - activation function of my neuron\n",
        "for x in (inputs_test.dot(weights_test)-mi):\n",
        "  if x >= 0:\n",
        "    print(1)\n",
        "  else:\n",
        "    print(0)\n",
        "\n",
        "# neuron was activated three times\n",
        "\n",
        "\n",
        "# neuron.cfg file generation\n",
        "# generate 10 random weights\n",
        "weights = np.random.randint(2, size=(10, 1))\n",
        "print(weights)\n",
        "np.savetxt('/content/neuron.cfg', weights, header=str(mi), fmt='%0.0f')\n",
        "\n",
        "# neuron.in file generation\n",
        "# generate 10 random inputs, each 80 chars long to commemorate'78 VT100\n",
        "inputs = np.random.randint(2, size=(10, 80))\n",
        "print(inputs)\n",
        "np.savetxt('/content/neuron.in', inputs, fmt='%0.0f')"
      ],
      "execution_count": 58,
      "outputs": [
        {
          "output_type": "stream",
          "text": [
            "[[0 1 0 1]\n",
            " [1 1 1 0]\n",
            " [0 0 1 1]\n",
            " [0 1 0 0]]\n",
            "[ 0  0  4 -5]\n",
            "1\n",
            "1\n",
            "1\n",
            "0\n",
            "[[1]\n",
            " [0]\n",
            " [0]\n",
            " [0]\n",
            " [1]\n",
            " [0]\n",
            " [0]\n",
            " [0]\n",
            " [1]\n",
            " [0]]\n",
            "[[0 0 1 0 0 1 1 1 1 0 0 0 0 0 0 1 1 0 0 1 0 1 0 0 0 1 1 1 1 1 0 1 0 1 0 0\n",
            "  1 0 1 0 0 1 0 0 1 1 1 0 1 1 1 0 0 0 1 1 0 1 0 1 1 0 0 1 0 0 1 0 1 0 1 1\n",
            "  1 1 0 0 1 0 1 0]\n",
            " [0 1 1 0 0 1 0 0 0 1 0 1 0 0 1 1 0 1 0 1 0 0 0 0 0 1 0 0 0 0 0 1 0 0 1 0\n",
            "  1 1 0 0 0 1 1 0 0 1 1 1 0 1 1 0 0 0 0 0 1 1 1 0 0 0 1 1 1 1 1 1 1 0 0 0\n",
            "  1 1 1 1 0 1 1 0]\n",
            " [1 1 1 1 0 1 1 0 0 1 1 0 0 0 1 0 1 1 1 1 0 0 1 1 1 0 0 1 0 0 0 1 0 1 1 0\n",
            "  0 0 0 0 1 1 0 1 0 1 1 0 1 1 1 1 0 0 0 0 1 0 0 0 0 0 1 0 1 0 0 0 1 1 1 1\n",
            "  1 0 0 1 1 1 1 1]\n",
            " [1 1 1 1 1 0 0 0 1 0 1 0 1 1 0 0 1 1 1 1 0 0 1 1 1 1 0 1 1 1 1 0 0 1 0 0\n",
            "  0 1 1 0 0 1 0 1 0 1 0 1 1 0 1 0 0 0 0 1 0 0 1 0 1 1 0 0 0 1 0 0 0 1 1 0\n",
            "  1 1 0 0 1 0 0 1]\n",
            " [0 1 0 0 0 1 1 0 0 1 1 0 1 0 1 1 0 0 0 1 1 0 0 0 0 1 0 1 0 0 0 1 0 0 1 1\n",
            "  0 0 1 1 1 0 0 1 0 0 1 1 0 0 0 0 1 1 0 0 0 1 0 1 0 0 1 1 1 1 0 1 0 0 0 1\n",
            "  0 0 0 0 0 1 0 1]\n",
            " [1 1 1 0 1 0 1 1 0 1 0 1 0 0 0 1 0 0 1 0 1 0 1 1 1 1 1 1 0 1 1 0 0 0 1 0\n",
            "  0 1 0 0 0 1 0 0 1 1 1 1 0 0 0 1 0 0 0 1 1 1 0 1 0 0 0 1 1 1 1 0 1 1 0 1\n",
            "  0 1 0 1 0 1 0 0]\n",
            " [1 1 0 0 1 0 0 0 1 1 1 0 0 1 1 1 1 1 0 1 0 0 0 1 1 0 0 0 1 1 0 0 1 0 0 1\n",
            "  0 0 1 0 0 1 1 1 0 0 0 1 0 1 1 0 0 0 0 1 0 1 0 0 0 0 1 0 0 0 1 0 0 0 1 1\n",
            "  1 1 1 0 0 0 1 0]\n",
            " [1 1 0 0 0 1 0 0 1 0 0 0 0 0 1 1 1 1 0 0 0 0 1 1 0 1 0 0 0 1 1 1 0 1 0 1\n",
            "  0 0 1 1 1 1 1 0 1 1 0 0 0 1 0 0 0 0 1 1 1 0 0 1 0 1 1 1 1 0 0 1 0 0 1 0\n",
            "  1 0 0 0 1 0 1 1]\n",
            " [1 0 1 1 1 0 0 1 1 1 0 0 1 0 1 1 1 0 1 1 0 0 0 1 0 0 0 0 0 0 1 1 0 1 1 1\n",
            "  1 0 1 0 0 0 1 0 0 1 1 1 1 1 1 1 1 1 1 0 0 0 0 1 0 0 0 0 0 1 1 1 1 1 0 0\n",
            "  1 1 0 0 1 0 0 0]\n",
            " [0 0 0 1 0 1 0 1 0 0 0 1 1 1 0 0 0 0 1 1 1 0 0 1 0 1 1 0 1 1 0 0 1 0 0 0\n",
            "  0 0 1 1 1 1 0 1 0 1 1 0 1 0 0 0 0 1 0 0 1 0 1 1 1 1 1 1 0 0 1 1 1 1 1 1\n",
            "  0 0 0 1 1 1 1 0]]\n"
          ],
          "name": "stdout"
        }
      ]
    }
  ]
}