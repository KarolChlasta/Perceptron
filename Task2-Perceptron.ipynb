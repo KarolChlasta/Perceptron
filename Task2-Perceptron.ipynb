{
  "nbformat": 4,
  "nbformat_minor": 0,
  "metadata": {
    "colab": {
      "name": "Perceptron.ipynb",
      "provenance": [],
      "include_colab_link": true
    },
    "kernelspec": {
      "name": "python3",
      "display_name": "Python 3"
    }
  },
  "cells": [
    {
      "cell_type": "markdown",
      "metadata": {
        "id": "view-in-github",
        "colab_type": "text"
      },
      "source": [
        "<a href=\"https://colab.research.google.com/github/KarolChlasta/Perceptron/blob/master/Task2-Perceptron.ipynb\" target=\"_parent\"><img src=\"https://colab.research.google.com/assets/colab-badge.svg\" alt=\"Open In Colab\"/></a>"
      ]
    },
    {
      "cell_type": "code",
      "metadata": {
        "id": "fi3R4Fty5vOx",
        "colab_type": "code",
        "outputId": "db6811bf-c272-49f0-c1a8-297627a5df70",
        "colab": {
          "base_uri": "https://localhost:8080/",
          "height": 374
        }
      },
      "source": [
        "# Perceptron - five McCulloch-Pitts neurons with 5 inputs\n",
        "import numpy as np\n",
        "\n",
        "def perceptron (mi, weights, inputs):\n",
        "  for x in (inputs.dot(weights)-mi):\n",
        "    if x >= 0:\n",
        "      result = np.append(1)\n",
        "    else:\n",
        "      result = np.append(0)\n",
        "  return result\n",
        "\n",
        "#########################\n",
        "# Build Task 2 Perceptron\n",
        "mi = np.random.randint(4, size=(5)) # perceptron thresholds\n",
        "#print(mi)\n",
        "\n",
        "# neuron.cfg file generation\n",
        "# generate 10 random weights\n",
        "weights = np.random.randint(2, size=(5, 5))\n",
        "#print(weights)\n",
        "np.savetxt('/content/perceptron.cfg', weights, header=str(mi), fmt='%0.0f')\n",
        "\n",
        "# neuron.in file generation\n",
        "# generate 10 random inputs, each 80 chars long to commemorate'78 VT100\n",
        "inputs = np.random.randint(2, size=(80, 5))\n",
        "#print(inputs)\n",
        "np.savetxt('/content/perceptron.in', inputs.transpose(), fmt='%0.0f')\n",
        "\n",
        "#print(inputs.dot(weights)-mi)\n",
        "\n",
        "#test perceptron function\n",
        "mi_test = 4 # test neuron threshold\n",
        "weights_test = np.array( [2, -1, 3, 5], dtype=int)\n",
        "inputs_test = np.array( [[0, 1, 0, 1],\n",
        "                         [1, 1, 1, 0],\n",
        "                         [0, 0, 1, 1],\n",
        "                         [0, 1, 0, 0]], dtype=int)\n",
        "\n",
        "perceptron(mi_test, weights_test, inputs_test)\n",
        "\n"
      ],
      "execution_count": 29,
      "outputs": [
        {
          "output_type": "error",
          "ename": "TypeError",
          "evalue": "ignored",
          "traceback": [
            "\u001b[0;31m---------------------------------------------------------------------------\u001b[0m",
            "\u001b[0;31mTypeError\u001b[0m                                 Traceback (most recent call last)",
            "\u001b[0;32m<ipython-input-29-c9c524dd5543>\u001b[0m in \u001b[0;36m<module>\u001b[0;34m()\u001b[0m\n\u001b[1;32m     36\u001b[0m                          [0, 1, 0, 0]], dtype=int)\n\u001b[1;32m     37\u001b[0m \u001b[0;34m\u001b[0m\u001b[0m\n\u001b[0;32m---> 38\u001b[0;31m \u001b[0mperceptron\u001b[0m\u001b[0;34m(\u001b[0m\u001b[0mmi_test\u001b[0m\u001b[0;34m,\u001b[0m \u001b[0mweights_test\u001b[0m\u001b[0;34m,\u001b[0m \u001b[0minputs_test\u001b[0m\u001b[0;34m)\u001b[0m\u001b[0;34m\u001b[0m\u001b[0;34m\u001b[0m\u001b[0m\n\u001b[0m\u001b[1;32m     39\u001b[0m \u001b[0;34m\u001b[0m\u001b[0m\n",
            "\u001b[0;32m<ipython-input-29-c9c524dd5543>\u001b[0m in \u001b[0;36mperceptron\u001b[0;34m(mi, weights, inputs)\u001b[0m\n\u001b[1;32m      4\u001b[0m   \u001b[0;32mfor\u001b[0m \u001b[0mx\u001b[0m \u001b[0;32min\u001b[0m \u001b[0;34m(\u001b[0m\u001b[0minputs\u001b[0m\u001b[0;34m.\u001b[0m\u001b[0mdot\u001b[0m\u001b[0;34m(\u001b[0m\u001b[0mweights\u001b[0m\u001b[0;34m)\u001b[0m\u001b[0;34m-\u001b[0m\u001b[0mmi\u001b[0m\u001b[0;34m)\u001b[0m\u001b[0;34m:\u001b[0m\u001b[0;34m\u001b[0m\u001b[0;34m\u001b[0m\u001b[0m\n\u001b[1;32m      5\u001b[0m     \u001b[0;32mif\u001b[0m \u001b[0mx\u001b[0m \u001b[0;34m>=\u001b[0m \u001b[0;36m0\u001b[0m\u001b[0;34m:\u001b[0m\u001b[0;34m\u001b[0m\u001b[0;34m\u001b[0m\u001b[0m\n\u001b[0;32m----> 6\u001b[0;31m       \u001b[0mresult\u001b[0m \u001b[0;34m=\u001b[0m \u001b[0mnp\u001b[0m\u001b[0;34m.\u001b[0m\u001b[0mappend\u001b[0m\u001b[0;34m(\u001b[0m\u001b[0;36m1\u001b[0m\u001b[0;34m)\u001b[0m\u001b[0;34m\u001b[0m\u001b[0;34m\u001b[0m\u001b[0m\n\u001b[0m\u001b[1;32m      7\u001b[0m     \u001b[0;32melse\u001b[0m\u001b[0;34m:\u001b[0m\u001b[0;34m\u001b[0m\u001b[0;34m\u001b[0m\u001b[0m\n\u001b[1;32m      8\u001b[0m       \u001b[0mresult\u001b[0m \u001b[0;34m=\u001b[0m \u001b[0mnp\u001b[0m\u001b[0;34m.\u001b[0m\u001b[0mappend\u001b[0m\u001b[0;34m(\u001b[0m\u001b[0;36m0\u001b[0m\u001b[0;34m)\u001b[0m\u001b[0;34m\u001b[0m\u001b[0;34m\u001b[0m\u001b[0m\n",
            "\u001b[0;32m<__array_function__ internals>\u001b[0m in \u001b[0;36mappend\u001b[0;34m(*args, **kwargs)\u001b[0m\n",
            "\u001b[0;31mTypeError\u001b[0m: _append_dispatcher() missing 1 required positional argument: 'values'"
          ]
        }
      ]
    }
  ]
}