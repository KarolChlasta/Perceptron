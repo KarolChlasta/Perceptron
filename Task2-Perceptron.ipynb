{
  "nbformat": 4,
  "nbformat_minor": 0,
  "metadata": {
    "colab": {
      "name": "Perceptron.ipynb",
      "provenance": [],
      "include_colab_link": true
    },
    "kernelspec": {
      "name": "python3",
      "display_name": "Python 3"
    }
  },
  "cells": [
    {
      "cell_type": "markdown",
      "metadata": {
        "id": "view-in-github",
        "colab_type": "text"
      },
      "source": [
        "<a href=\"https://colab.research.google.com/github/KarolChlasta/Perceptron/blob/master/Task2-Perceptron.ipynb\" target=\"_parent\"><img src=\"https://colab.research.google.com/assets/colab-badge.svg\" alt=\"Open In Colab\"/></a>"
      ]
    },
    {
      "cell_type": "code",
      "metadata": {
        "id": "fi3R4Fty5vOx",
        "colab_type": "code",
        "outputId": "575728b5-ebf8-49d0-b5a2-adf482f2d029",
        "colab": {
          "base_uri": "https://localhost:8080/",
          "height": 208
        }
      },
      "source": [
        "# Perceptron - five McCulloch-Pitts neurons with 5 inputs\n",
        "import numpy as np\n",
        "\n",
        "# Define my perceptron\n",
        "def myperceptron (mi, weights, inputs):\n",
        "  neurocalc = np.subtract(inputs.dot(weights), mi)\n",
        "  outps = []\n",
        "  for i in range(len(neurocalc)):\n",
        "        for j in range(len(neurocalc[i])):\n",
        "                if(neurocalc[i][j]) >= 0:\n",
        "                  outps.append(1)\n",
        "                else:\n",
        "                  outps.append(0)\n",
        "  return np.array(outps)\n",
        "\n",
        "# Task 2 - simulate perceptron\n",
        "mi = np.random.randint(4, size=(5), dtype=int) # perceptron thresholds\n",
        "\n",
        "# perceptron.cfg file generation\n",
        "# generate 25 random weights\n",
        "weights = np.random.randint(2, size=(5, 5), dtype=int)\n",
        "np.savetxt('/content/perceptron.cfg', weights, header=str(mi), fmt='%0.0f')\n",
        "\n",
        "# perceptron.in file generation\n",
        "# generate 5 random inputs, each 80 chars long to commemorate'78 VT100\n",
        "inputs = np.random.randint(2, size=(80, 5), dtype=int)\n",
        "np.savetxt('/content/perceptron.in', inputs.transpose(), fmt='%0.0f')\n",
        "\n",
        "# perceptron.out file generation\n",
        "# calculate 400 outputs and save to file, diplay result\n",
        "np.savetxt('/content/perceptron.out', myperceptron (mi, weights, inputs), fmt='%0.0f')\n",
        "print(myperceptron (mi, weights, inputs))"
      ],
      "execution_count": 90,
      "outputs": [
        {
          "output_type": "stream",
          "text": [
            "[0 1 1 1 1 0 1 1 1 0 0 1 1 1 1 0 1 1 1 1 0 1 1 1 0 0 1 1 1 0 0 1 1 1 0 0 1\n",
            " 1 1 0 0 1 1 1 1 0 1 1 1 1 0 1 0 1 0 0 1 1 1 0 0 1 1 1 0 0 1 1 1 1 0 1 1 1\n",
            " 0 0 1 0 1 0 0 1 1 1 0 0 1 1 1 0 0 1 1 1 1 0 1 1 1 1 0 1 1 1 0 0 1 1 1 0 0\n",
            " 1 1 1 1 0 1 1 1 0 0 1 1 1 0 0 1 0 1 0 0 1 1 1 0 0 1 1 1 0 0 1 1 1 1 0 1 0\n",
            " 1 0 0 1 1 1 1 0 1 1 1 0 0 1 1 1 0 0 1 1 1 0 0 1 0 1 0 0 1 1 1 1 0 1 1 1 0\n",
            " 0 1 1 1 1 0 1 1 1 1 0 1 1 1 0 0 1 1 1 1 0 1 1 1 0 0 1 1 1 0 0 1 1 1 0 0 1\n",
            " 0 1 0 0 1 1 1 0 0 1 1 1 0 0 1 1 1 1 0 1 1 1 0 0 1 0 1 0 0 1 1 1 0 0 1 1 1\n",
            " 0 0 1 1 1 0 0 1 1 1 0 0 1 1 1 1 0 1 1 1 1 0 1 0 1 0 0 1 1 1 1 0 1 1 1 1 0\n",
            " 1 0 1 0 0 1 1 1 1 0 1 1 1 1 0 1 1 1 0 0 1 1 1 0 0 1 1 1 0 0 1 1 1 0 0 1 0\n",
            " 1 0 0 1 1 1 0 0 1 0 1 0 0 1 1 1 0 0 1 1 1 0 0 1 1 1 1 0 1 1 1 1 0 1 1 1 0\n",
            " 0 1 1 1 0 0 1 1 1 1 0 1 0 1 0 0 1 1 1 1 0 1 1 1 1 0 1 1 1 0]\n"
          ],
          "name": "stdout"
        }
      ]
    }
  ]
}