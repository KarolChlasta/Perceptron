{
  "nbformat": 4,
  "nbformat_minor": 0,
  "metadata": {
    "colab": {
      "name": "Perceptron.ipynb",
      "provenance": [],
      "include_colab_link": true
    },
    "kernelspec": {
      "name": "python3",
      "display_name": "Python 3"
    }
  },
  "cells": [
    {
      "cell_type": "markdown",
      "metadata": {
        "id": "view-in-github",
        "colab_type": "text"
      },
      "source": [
        "<a href=\"https://colab.research.google.com/github/KarolChlasta/Perceptron/blob/master/Task2-Perceptron.ipynb\" target=\"_parent\"><img src=\"https://colab.research.google.com/assets/colab-badge.svg\" alt=\"Open In Colab\"/></a>"
      ]
    },
    {
      "cell_type": "code",
      "metadata": {
        "id": "fi3R4Fty5vOx",
        "colab_type": "code",
        "outputId": "dc7b0810-7211-4468-fcd8-c2bc6d7b94e2",
        "colab": {
          "base_uri": "https://localhost:8080/",
          "height": 34
        }
      },
      "source": [
        "# Perceptron - five McCulloch-Pitts neurons with 5 inputs\n",
        "import numpy as np\n",
        "\n",
        "def perceptron (mi, weights, inputs):\n",
        "  outps = []\n",
        "  for x in (inputs.dot(weights)-mi):\n",
        "    if x >= 0:\n",
        "      outps.append(1)\n",
        "    else:\n",
        "      outps.append(0)\n",
        "  result = np.array(outps)\n",
        "  return result\n",
        "\n",
        "#########################\n",
        "# Build Task 2 Perceptron\n",
        "mi = np.random.randint(4, size=(5)) # perceptron thresholds\n",
        "#print(mi)\n",
        "\n",
        "# neuron.cfg file generation\n",
        "# generate 10 random weights\n",
        "weights = np.random.randint(2, size=(5, 5))\n",
        "#print(weights)\n",
        "np.savetxt('/content/perceptron.cfg', weights, header=str(mi), fmt='%0.0f')\n",
        "\n",
        "# neuron.in file generation\n",
        "# generate 10 random inputs, each 80 chars long to commemorate'78 VT100\n",
        "inputs = np.random.randint(2, size=(80, 5))\n",
        "#print(inputs)\n",
        "np.savetxt('/content/perceptron.in', inputs.transpose(), fmt='%0.0f')\n",
        "\n",
        "#print(inputs.dot(weights)-mi)\n",
        "\n",
        "#test perceptron function\n",
        "mi_test = 4 # test neuron threshold\n",
        "weights_test = np.array( [2, -1, 3, 5], dtype=int)\n",
        "inputs_test = np.array( [[0, 1, 0, 1],\n",
        "                         [1, 1, 1, 0],\n",
        "                         [0, 0, 1, 1],\n",
        "                         [0, 1, 0, 0]], dtype=int)\n",
        "\n",
        "perceptron(mi_test, weights_test, inputs_test)\n",
        "#perceptron tested\n"
      ],
      "execution_count": 38,
      "outputs": [
        {
          "output_type": "execute_result",
          "data": {
            "text/plain": [
              "array([1, 1, 1, 0])"
            ]
          },
          "metadata": {
            "tags": []
          },
          "execution_count": 38
        }
      ]
    }
  ]
}