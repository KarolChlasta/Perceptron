{
  "nbformat": 4,
  "nbformat_minor": 0,
  "metadata": {
    "colab": {
      "name": "Perceptron.ipynb",
      "provenance": [],
      "include_colab_link": true
    },
    "kernelspec": {
      "name": "python3",
      "display_name": "Python 3"
    }
  },
  "cells": [
    {
      "cell_type": "markdown",
      "metadata": {
        "id": "view-in-github",
        "colab_type": "text"
      },
      "source": [
        "<a href=\"https://colab.research.google.com/github/KarolChlasta/Perceptron/blob/master/Task3-Multi_Layer_Perceptron.ipynb\" target=\"_parent\"><img src=\"https://colab.research.google.com/assets/colab-badge.svg\" alt=\"Open In Colab\"/></a>"
      ]
    },
    {
      "cell_type": "code",
      "metadata": {
        "id": "fi3R4Fty5vOx",
        "colab_type": "code",
        "outputId": "8c250ab4-d624-4c1a-9b05-3c9038db835d",
        "colab": {
          "base_uri": "https://localhost:8080/",
          "height": 425
        }
      },
      "source": [
        "# Two layer perceptron - five McCulloch-Pitts neurons with 5 inputs feeding into three such neurons.\n",
        "import numpy as np\n",
        "\n",
        "# Define my perceptron\n",
        "def myperceptron (mi, weights, inputs):\n",
        "  neurocalc = np.subtract(inputs.dot(weights), mi)\n",
        "  outps = []\n",
        "  for i in range(len(neurocalc)):\n",
        "        for j in range(len(neurocalc[i])):\n",
        "                if(neurocalc[i][j]) >= 0:\n",
        "                  outps.append(1)\n",
        "                else:\n",
        "                  outps.append(0)\n",
        "  return np.array(outps)\n",
        "\n",
        "# Task 3 - simulate two layer perceptron\n",
        "\n",
        "# Simulate first layer first\n",
        "mi = np.random.randint(4, size=(5), dtype=int) # perceptron thresholds\n",
        "\n",
        "# perceptron.cfg file generation\n",
        "# generate 25 random weights\n",
        "weights = np.random.randint(2, size=(5, 5), dtype=int)\n",
        "np.savetxt('/content/perceptron.cfg', weights, header=str(mi), fmt='%0.0f')\n",
        "\n",
        "# perceptron.in file generation\n",
        "# generate 5 random inputs, each 80 chars long to commemorate'78 VT100\n",
        "inputs = np.random.randint(2, size=(80, 5), dtype=int)\n",
        "np.savetxt('/content/perceptron.in', inputs.transpose(), fmt='%0.0f')\n",
        "\n",
        "# perceptron.out file generation\n",
        "# calculate 400 outputs and save to file, diplay result\n",
        "np.savetxt('/content/perceptron.out', myperceptron (mi, weights, inputs), fmt='%0.0f')\n",
        "print(myperceptron (mi, weights, inputs))\n",
        "\n",
        "# Simulate the second layer\n",
        "mi2 = np.random.randint(4, size=(3), dtype=int) # perceptron's second later thresholds\n",
        "print(mi2)\n",
        "\n",
        "# perceptron2.cfg file generation\n",
        "# generate 15 random weights\n",
        "weights2 = np.random.randint(2, size=(5, 3), dtype=int)\n",
        "np.savetxt('/content/perceptronL2.cfg', weights, header=str(mi2), fmt='%0.0f')\n",
        "print(weights2)\n",
        "\n",
        "# perceptronL2.in file generation, reuse outputs from the first layer\n",
        "np.savetxt('/content/perceptronL2.in', myperceptron (mi, weights, inputs), fmt='%0.0f')\n",
        "\n",
        "#convert layer two input to a format consumable by my function\n",
        "inputsL2 = myperceptron (mi, weights, inputs)\n",
        "#print(np.reshape(inputsL2, (80, 5)))\n",
        "\n",
        "# perceptron.out file generation\n",
        "# calculate 240 outputs and save to file, diplay result\n",
        "np.savetxt('/content/perceptronL2.out', myperceptron(mi2, weights2, np.reshape(inputsL2, (80,5))), fmt='%0.0f')\n",
        "print(myperceptron(mi2, weights2, np.reshape(inputsL2, (80,5))))\n"
      ],
      "execution_count": 38,
      "outputs": [
        {
          "output_type": "stream",
          "text": [
            "[1 1 1 1 0 1 1 1 1 0 1 1 1 1 0 0 1 1 1 0 0 0 1 1 0 1 1 1 1 0 1 1 1 1 0 1 1\n",
            " 1 1 0 0 1 1 1 0 0 1 1 1 0 0 1 1 1 0 0 1 1 1 0 0 1 1 1 0 0 1 1 1 0 1 1 1 1\n",
            " 0 1 1 1 1 0 0 0 1 1 0 1 1 1 1 0 1 1 1 1 0 0 0 1 1 0 1 1 1 1 0 0 1 1 1 0 0\n",
            " 0 1 1 0 1 1 1 1 0 0 1 1 1 0 0 1 1 1 0 0 1 1 1 0 0 1 1 1 0 0 1 1 1 0 1 1 1\n",
            " 1 0 0 1 1 1 0 0 1 1 1 0 1 1 1 1 0 1 1 1 1 0 0 1 1 1 0 0 1 1 1 0 0 1 1 1 0\n",
            " 1 1 1 1 0 1 1 1 1 0 1 1 1 1 0 0 1 1 1 0 0 1 1 1 0 0 1 1 1 0 1 1 1 1 0 0 1\n",
            " 1 1 0 1 1 1 1 0 0 0 1 1 0 1 1 1 1 0 1 1 1 1 0 1 1 1 1 0 0 1 1 1 0 1 1 1 1\n",
            " 0 0 1 1 1 0 0 1 1 1 0 1 1 1 1 0 0 0 1 1 0 1 1 1 1 0 1 1 1 1 0 1 1 1 1 0 1\n",
            " 1 1 1 0 0 1 1 1 0 1 1 1 1 0 1 1 1 1 0 0 0 1 1 0 0 1 1 1 0 0 0 1 1 0 1 1 1\n",
            " 1 0 1 1 1 1 0 0 1 1 1 0 0 1 1 1 0 0 0 1 1 0 1 1 1 1 0 0 1 1 1 0 0 1 1 1 0\n",
            " 1 1 1 1 0 0 1 1 1 0 1 1 1 1 0 0 1 1 1 0 0 1 1 1 0 1 1 1 1 0]\n",
            "[3 2 3]\n",
            "[[1 0 0]\n",
            " [0 0 1]\n",
            " [1 0 0]\n",
            " [1 0 0]\n",
            " [0 1 0]]\n",
            "[1 0 0 1 0 0 1 0 0 0 0 0 0 0 0 1 0 0 1 0 0 1 0 0 0 0 0 0 0 0 0 0 0 0 0 0 0\n",
            " 0 0 0 0 0 1 0 0 1 0 0 0 0 0 1 0 0 1 0 0 0 0 0 1 0 0 0 0 0 0 0 0 1 0 0 0 0\n",
            " 0 0 0 0 0 0 0 0 0 0 0 0 0 1 0 0 0 0 0 0 0 0 1 0 0 1 0 0 0 0 0 0 0 0 0 0 0\n",
            " 1 0 0 1 0 0 1 0 0 0 0 0 0 0 0 0 0 0 1 0 0 0 0 0 1 0 0 0 0 0 1 0 0 1 0 0 1\n",
            " 0 0 0 0 0 1 0 0 0 0 0 0 0 0 1 0 0 0 0 0 1 0 0 1 0 0 1 0 0 1 0 0 0 0 0 1 0\n",
            " 0 1 0 0 0 0 0 0 0 0 0 0 0 1 0 0 1 0 0 0 0 0 0 0 0 0 0 0 1 0 0 0 0 0 0 0 0\n",
            " 1 0 0 0 0 0 1 0 0 0 0 0 0 0 0 1 0 0]\n"
          ],
          "name": "stdout"
        }
      ]
    }
  ]
}